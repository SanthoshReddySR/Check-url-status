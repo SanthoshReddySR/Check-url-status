{
 "cells": [
  {
   "cell_type": "code",
   "execution_count": 2,
   "id": "1e371f8d",
   "metadata": {},
   "outputs": [
    {
     "name": "stdout",
     "output_type": "stream",
     "text": [
      "https://www.example.com is available (Status Code: 200)\n",
      "https://www.google.com is available (Status Code: 200)\n",
      "https://www.whatsapp.com is available (Status Code: 200)\n"
     ]
    }
   ],
   "source": [
    "import requests\n",
    "\n",
    "def check_url_status(url):\n",
    "    try:\n",
    "        response = requests.get(url)\n",
    "        if response.status_code == 200:\n",
    "            return f\"{url} is available (Status Code: {response.status_code})\"\n",
    "        else:\n",
    "            return f\"{url} is not available (Status Code: {response.status_code})\"\n",
    "    except requests.ConnectionError:\n",
    "        return f\"{url} failed to connect\"\n",
    "\n",
    "def main():\n",
    "    # List of URLs to check\n",
    "    urls = [\n",
    "        \"https://www.example.com\",\n",
    "        \"https://www.google.com\",\n",
    "        \"https://www.whatsapp.com\"\n",
    "    ]\n",
    "\n",
    "    # Check the status of each URL\n",
    "    for url in urls:\n",
    "        status = check_url_status(url)\n",
    "        print(status)\n",
    "\n",
    "if __name__ == \"__main__\":\n",
    "    main()\n"
   ]
  },
  {
   "cell_type": "code",
   "execution_count": null,
   "id": "74ca2ddb",
   "metadata": {},
   "outputs": [],
   "source": []
  }
 ],
 "metadata": {
  "kernelspec": {
   "display_name": "Python 3 (ipykernel)",
   "language": "python",
   "name": "python3"
  },
  "language_info": {
   "codemirror_mode": {
    "name": "ipython",
    "version": 3
   },
   "file_extension": ".py",
   "mimetype": "text/x-python",
   "name": "python",
   "nbconvert_exporter": "python",
   "pygments_lexer": "ipython3",
   "version": "3.11.4"
  }
 },
 "nbformat": 4,
 "nbformat_minor": 5
}
